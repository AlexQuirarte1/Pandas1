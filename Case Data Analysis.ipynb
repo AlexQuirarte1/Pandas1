{
 "cells": [
  {
   "cell_type": "code",
   "execution_count": 28,
   "metadata": {},
   "outputs": [],
   "source": [
    "import numpy as np\n",
    "import pandas as pd\n",
    "from pandas import Series, DataFrame\n",
    "import matplotlib.pyplot as plt\n",
    "import seaborn as sns\n",
    "import duckdb\n",
    "import datetime as dt\n",
    "\n",
    "plt.style.use('ggplot')\n",
    "\n",
    "import nltk"
   ]
  },
  {
   "cell_type": "code",
   "execution_count": 29,
   "metadata": {},
   "outputs": [
    {
     "data": {
      "text/plain": [
       "['C:\\\\Users\\\\aquirart\\\\Documents\\\\Pandas\\\\Case Data\\\\Case Data 2015_2016.csv',\n",
       " 'C:\\\\Users\\\\aquirart\\\\Documents\\\\Pandas\\\\Case Data\\\\Case Data 2017.csv',\n",
       " 'C:\\\\Users\\\\aquirart\\\\Documents\\\\Pandas\\\\Case Data\\\\Case Data 2018.csv',\n",
       " 'C:\\\\Users\\\\aquirart\\\\Documents\\\\Pandas\\\\Case Data\\\\Case Data 2019.csv',\n",
       " 'C:\\\\Users\\\\aquirart\\\\Documents\\\\Pandas\\\\Case Data\\\\Case Data 2020.csv',\n",
       " 'C:\\\\Users\\\\aquirart\\\\Documents\\\\Pandas\\\\Case Data\\\\Case Data 2021.csv',\n",
       " 'C:\\\\Users\\\\aquirart\\\\Documents\\\\Pandas\\\\Case Data\\\\Case Data 2022.csv',\n",
       " 'C:\\\\Users\\\\aquirart\\\\Documents\\\\Pandas\\\\Case Data\\\\Case Data 2023_2024.csv']"
      ]
     },
     "execution_count": 29,
     "metadata": {},
     "output_type": "execute_result"
    }
   ],
   "source": [
    "import glob\n",
    "glob.glob(r'C:\\Users\\aquirart\\Documents\\Pandas\\Case Data\\Case Data*.csv')"
   ]
  },
  {
   "cell_type": "code",
   "execution_count": 30,
   "metadata": {},
   "outputs": [
    {
     "name": "stdout",
     "output_type": "stream",
     "text": [
      "Loading C:\\Users\\aquirart\\Documents\\Pandas\\Case Data\\Case Data 2015_2016.csv\n"
     ]
    },
    {
     "name": "stderr",
     "output_type": "stream",
     "text": [
      "C:\\Users\\aquirart\\AppData\\Local\\Temp\\ipykernel_4480\\1626403546.py:4: DtypeWarning: Columns (7,53,54,55) have mixed types. Specify dtype option on import or set low_memory=False.\n",
      "  new_df = pd.read_csv(one_filename,\n"
     ]
    },
    {
     "name": "stdout",
     "output_type": "stream",
     "text": [
      "Loading C:\\Users\\aquirart\\Documents\\Pandas\\Case Data\\Case Data 2017.csv\n",
      "Loading C:\\Users\\aquirart\\Documents\\Pandas\\Case Data\\Case Data 2018.csv\n",
      "Loading C:\\Users\\aquirart\\Documents\\Pandas\\Case Data\\Case Data 2019.csv\n",
      "Loading C:\\Users\\aquirart\\Documents\\Pandas\\Case Data\\Case Data 2020.csv\n",
      "Loading C:\\Users\\aquirart\\Documents\\Pandas\\Case Data\\Case Data 2021.csv\n",
      "Loading C:\\Users\\aquirart\\Documents\\Pandas\\Case Data\\Case Data 2022.csv\n",
      "Loading C:\\Users\\aquirart\\Documents\\Pandas\\Case Data\\Case Data 2023_2024.csv\n"
     ]
    }
   ],
   "source": [
    "all_dfs = []\n",
    "for one_filename in glob.glob(r'C:\\Users\\aquirart\\Documents\\Pandas\\Case Data\\Case Data*.csv'):\n",
    "    print(f'Loading {one_filename}')\n",
    "    new_df = pd.read_csv(one_filename,\n",
    "                usecols=['Id', 'CaseNumber', 'ContactId', 'AccountId', 'ParentId', 'Type', 'RecordTypeId', 'Status', 'Origin',\n",
    "                         'Subject', 'Description', 'IsClosed', 'ClosedDate', 'IsEscalated', 'OwnerId', 'CreatedDate', 'CreatedById', 'Category__c',\n",
    "                          'External_Resolution_Comments__c', 'R_Business_Unit__c', 'R_DEPTID__c', 'R_EMPL_Class__c', 'R_EMPL_Status__c',\n",
    "                          'Topic_Category_SubCategory_Validated__c', 'Service_Target_Category_Change_Count__c', 'Service_Target_Sub_Category_Change_Count__c',\n",
    "                           'Service_Target_Topic_Change_Count__c'], \n",
    "                encoding='ISO-8859-1')\n",
    "    all_dfs.append(new_df)"
   ]
  },
  {
   "cell_type": "code",
   "execution_count": 31,
   "metadata": {},
   "outputs": [],
   "source": [
    "df = pd.concat(all_dfs)\n",
    "df['CreatedDate'] = pd.to_datetime(df['CreatedDate'])\n"
   ]
  },
  {
   "cell_type": "code",
   "execution_count": 32,
   "metadata": {},
   "outputs": [],
   "source": [
    "df = df.fillna('')"
   ]
  },
  {
   "cell_type": "code",
   "execution_count": 33,
   "metadata": {},
   "outputs": [],
   "source": [
    "df['CreatedYear'] = df['CreatedDate'].dt.year"
   ]
  },
  {
   "cell_type": "code",
   "execution_count": 34,
   "metadata": {},
   "outputs": [],
   "source": [
    "df['CreatedMonth'] = df['CreatedDate'].dt.month_name()"
   ]
  },
  {
   "cell_type": "code",
   "execution_count": 42,
   "metadata": {},
   "outputs": [],
   "source": [
    "df1 = df.query('(Description.str.contains(\"Card|Id Card\") or Subject.str.contains(\"Id Card|Card\")) and CreatedYear==2023 and Category__c == \"Other Benefits Inquiry\"')"
   ]
  },
  {
   "cell_type": "code",
   "execution_count": null,
   "metadata": {},
   "outputs": [],
   "source": [
    "#condidtions = [\n",
    "#    (df['Origin']=='Portal') & (df['Topic_Category_SubCategory_Validated__c']==True) & (df['ParentId']=='') & ((df['Service_Target_Topic_Change_Count__c'] > 0) | (df['Service_Target_Category_Change_Count__c'] > 0) | (df['Service_Target_Sub_Category_Change_Count__c'] > 1) ),\n",
    "#]\n",
    "#\n",
    "#values = [1\n",
    "#            ]\n",
    "#\n",
    "#df['Non-AccurateCase'] = np.select(condidtions, values)"
   ]
  },
  {
   "cell_type": "code",
   "execution_count": null,
   "metadata": {},
   "outputs": [],
   "source": [
    "#df.groupby(['CreatedYear']).agg({'Non-AccurateCase' : ['sum','count']})"
   ]
  }
 ],
 "metadata": {
  "kernelspec": {
   "display_name": "Python 3",
   "language": "python",
   "name": "python3"
  },
  "language_info": {
   "codemirror_mode": {
    "name": "ipython",
    "version": 3
   },
   "file_extension": ".py",
   "mimetype": "text/x-python",
   "name": "python",
   "nbconvert_exporter": "python",
   "pygments_lexer": "ipython3",
   "version": "3.11.8"
  }
 },
 "nbformat": 4,
 "nbformat_minor": 2
}
