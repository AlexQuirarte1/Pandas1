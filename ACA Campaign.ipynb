{
 "cells": [
  {
   "cell_type": "markdown",
   "id": "0e693960",
   "metadata": {},
   "source": [
    "Import of Pandas and Numpy"
   ]
  },
  {
   "cell_type": "code",
   "execution_count": 93,
   "id": "2a2beff9",
   "metadata": {},
   "outputs": [],
   "source": [
    "import numpy as np\n",
    "import pandas as pd\n",
    "from pandas import Series, DataFrame"
   ]
  },
  {
   "cell_type": "markdown",
   "id": "aac2a1ec",
   "metadata": {},
   "source": [
    "Read Full ACA List"
   ]
  },
  {
   "cell_type": "code",
   "execution_count": 94,
   "id": "0f6141a7",
   "metadata": {},
   "outputs": [],
   "source": [
    "df = pd.read_csv(r'C:\\Users\\aquirart\\Desktop\\ACA Emails\\IMP_2_21_24\\Full_IMP_ACA_2_21_24.csv')"
   ]
  },
  {
   "cell_type": "markdown",
   "id": "bf77f932",
   "metadata": {},
   "source": [
    "Import glob and read 1st Attempt Files"
   ]
  },
  {
   "cell_type": "code",
   "execution_count": 95,
   "id": "66bcbcff",
   "metadata": {},
   "outputs": [
    {
     "data": {
      "text/plain": [
       "['C:\\\\Users\\\\aquirart\\\\Desktop\\\\ACA Emails\\\\IMP_2_21_24\\\\1st_IMP_ACA_GAIN_A_Updated.csv',\n",
       " 'C:\\\\Users\\\\aquirart\\\\Desktop\\\\ACA Emails\\\\IMP_2_21_24\\\\1st_IMP_ACA_GAIN_B_Updated.csv']"
      ]
     },
     "execution_count": 95,
     "metadata": {},
     "output_type": "execute_result"
    }
   ],
   "source": [
    "import glob\n",
    "glob.glob(r'C:\\Users\\aquirart\\Desktop\\ACA Emails\\IMP_2_21_24\\1st_IMP*.csv')"
   ]
  },
  {
   "cell_type": "markdown",
   "id": "dd54e1a0",
   "metadata": {},
   "source": [
    "Loop through 1st Attempt files found and append to List"
   ]
  },
  {
   "cell_type": "code",
   "execution_count": 96,
   "id": "83178091",
   "metadata": {},
   "outputs": [
    {
     "name": "stdout",
     "output_type": "stream",
     "text": [
      "Loading C:\\Users\\aquirart\\Desktop\\ACA Emails\\IMP_2_21_24\\1st_IMP_ACA_GAIN_A_Updated.csv\n",
      "Loading C:\\Users\\aquirart\\Desktop\\ACA Emails\\IMP_2_21_24\\1st_IMP_ACA_GAIN_B_Updated.csv\n"
     ]
    }
   ],
   "source": [
    "all_dfs = []\n",
    "for one_filename in glob.glob(r'C:\\Users\\aquirart\\Desktop\\ACA Emails\\IMP_2_21_24\\1st_IMP*.csv'):\n",
    "    print(f'Loading {one_filename}')\n",
    "    new_df = pd.read_csv(one_filename,\n",
    "                usecols=['Prospect Id', 'First Name', 'Last Name', 'CRM Contact FID'])\n",
    "    all_dfs.append(new_df)"
   ]
  },
  {
   "cell_type": "code",
   "execution_count": 97,
   "id": "fce49d08",
   "metadata": {},
   "outputs": [
    {
     "data": {
      "text/plain": [
       "2"
      ]
     },
     "execution_count": 97,
     "metadata": {},
     "output_type": "execute_result"
    }
   ],
   "source": [
    "len(all_dfs)"
   ]
  },
  {
   "cell_type": "markdown",
   "id": "507144d1",
   "metadata": {},
   "source": [
    "Trim CRM Contact FID to first 15 Char"
   ]
  },
  {
   "cell_type": "code",
   "execution_count": 98,
   "id": "5ea68c76",
   "metadata": {},
   "outputs": [],
   "source": [
    "if not all_dfs:\n",
    "    print('empty')\n",
    "else:\n",
    "    df1 = pd.concat(all_dfs)\n",
    "    df1['1st Email'] = df1['CRM Contact FID'].str[:15]"
   ]
  },
  {
   "cell_type": "markdown",
   "id": "2ea75519",
   "metadata": {},
   "source": [
    "Merge full ACA list to 1st Email Attempt"
   ]
  },
  {
   "cell_type": "code",
   "execution_count": 99,
   "id": "cd83692c",
   "metadata": {},
   "outputs": [],
   "source": [
    "if not all_dfs:\n",
    "    df_main['1st Email'] = ''\n",
    "else:\n",
    "    df_main = pd.merge(df[['ACA Transaction Code', 'Business Unit', 'Contact: Contact ID', \n",
    "                        'Send Via Mail', 'Email', 'Secondary Email', 'Employee ID',\n",
    "                        'First Name', 'Last Name', 'Middle Name', 'Other Street', 'Other City', \n",
    "                        'Other State', 'Other Postal Code', 'Other Country', 'Reporting Month', 'Reporting Year']],\n",
    "                    df1[['1st Email']], \n",
    "                    left_on = 'Contact: Contact ID', \n",
    "                    right_on = '1st Email', \n",
    "                    how='left' )"
   ]
  },
  {
   "cell_type": "code",
   "execution_count": 100,
   "id": "31a44966",
   "metadata": {},
   "outputs": [
    {
     "data": {
      "text/plain": [
       "[]"
      ]
     },
     "execution_count": 100,
     "metadata": {},
     "output_type": "execute_result"
    }
   ],
   "source": [
    "glob.glob(r'C:\\Users\\aquirart\\Desktop\\ACA Emails\\IMP_2_21_24\\1st Soft*.csv')"
   ]
  },
  {
   "cell_type": "code",
   "execution_count": 101,
   "id": "3c709c2b",
   "metadata": {},
   "outputs": [],
   "source": [
    "all_dfs_soft = []\n",
    "for one_filename_soft in glob.glob(r'C:\\Users\\aquirart\\Desktop\\ACA Emails\\IMP_2_21_24\\1st Soft*.csv'):\n",
    "    print(f'Loading {one_filename_soft}')\n",
    "    new_df_soft = pd.read_csv(one_filename_soft,\n",
    "                usecols=['Prospect Id', 'First Name', 'Last Name', 'CRM Contact FID'])\n",
    "    all_dfs_soft.append(new_df_soft)"
   ]
  },
  {
   "cell_type": "code",
   "execution_count": 102,
   "id": "4934cda8",
   "metadata": {},
   "outputs": [
    {
     "name": "stdout",
     "output_type": "stream",
     "text": [
      "empty\n"
     ]
    }
   ],
   "source": [
    "if not all_dfs_soft:\n",
    "    print('empty')\n",
    "else:\n",
    "    df2 = pd.concat(all_dfs_soft)\n",
    "    df2['1st Email Soft'] = df2['CRM Contact FID'].str[:15]"
   ]
  },
  {
   "cell_type": "code",
   "execution_count": 103,
   "id": "9d9d65e6",
   "metadata": {},
   "outputs": [],
   "source": [
    "if not all_dfs_soft:\n",
    "    df_main['1st Email Soft'] = ''\n",
    "else:\n",
    "    df_main = pd.merge(df_main[['ACA Transaction Code', 'Business Unit', 'Contact: Contact ID', \n",
    "                        'Send Via Mail', 'Email', 'Secondary Email', 'Employee ID',\n",
    "                        'First Name', 'Last Name', 'Middle Name', 'Other Street', 'Other City', \n",
    "                        'Other State', 'Other Postal Code', 'Other Country', 'Reporting Month', 'Reporting Year', '1st Email']],\n",
    "                    df2[['1st Email Soft']], \n",
    "                    left_on = 'Contact: Contact ID', \n",
    "                    right_on = '1st Email Soft', \n",
    "                    how='left' )"
   ]
  },
  {
   "cell_type": "code",
   "execution_count": 104,
   "id": "2e2ca08c",
   "metadata": {},
   "outputs": [],
   "source": [
    "df_main = df_main.fillna('')"
   ]
  },
  {
   "cell_type": "code",
   "execution_count": 105,
   "id": "0f085e6a",
   "metadata": {},
   "outputs": [],
   "source": [
    "condidtions = [\n",
    "    (df_main['1st Email'] == ''),\n",
    "    (df_main['1st Email'] != '') & (df_main['1st Email Soft'] != ''),\n",
    "    (df_main['1st Email'] != '') & (df_main['1st Email Soft'] == ''),\n",
    "]\n",
    "\n",
    "values = ['Hard Bounce / Did Not Send','Soft Bounce', 'Email Sent']\n",
    "\n",
    "df_main['1st Email Status'] = np.select(condidtions, values)"
   ]
  },
  {
   "cell_type": "code",
   "execution_count": 106,
   "id": "f5591ab3",
   "metadata": {},
   "outputs": [
    {
     "data": {
      "text/plain": [
       "[]"
      ]
     },
     "execution_count": 106,
     "metadata": {},
     "output_type": "execute_result"
    }
   ],
   "source": [
    "glob.glob(r'C:\\Users\\aquirart\\Desktop\\ACA Emails\\IMP_2_21_24\\2nd IMP*.csv')"
   ]
  },
  {
   "cell_type": "code",
   "execution_count": 107,
   "id": "715f12f9",
   "metadata": {},
   "outputs": [],
   "source": [
    "all_dfs_2nd = []\n",
    "for one_filename_2nd in glob.glob(r'C:\\Users\\aquirart\\Desktop\\ACA Emails\\IMP_2_21_24\\2nd IMP*.csv'):\n",
    "    print(f'Loading {one_filename_2nd}')\n",
    "    new_df_2nd = pd.read_csv(one_filename_2nd,\n",
    "                usecols=['Prospect Id', 'First Name', 'Last Name', 'CRM Contact FID'])\n",
    "    all_dfs_2nd.append(new_df_2nd)"
   ]
  },
  {
   "cell_type": "code",
   "execution_count": 108,
   "id": "f80ed530",
   "metadata": {},
   "outputs": [
    {
     "name": "stdout",
     "output_type": "stream",
     "text": [
      "empty\n"
     ]
    }
   ],
   "source": [
    "if not all_dfs_2nd:\n",
    "    print('empty')\n",
    "else:\n",
    "    df3 = pd.concat(all_dfs_soft)\n",
    "    df3['2nd Email'] = df3['CRM Contact FID'].str[:15]"
   ]
  },
  {
   "cell_type": "code",
   "execution_count": 109,
   "id": "8b98973b",
   "metadata": {},
   "outputs": [],
   "source": [
    "if not all_dfs_2nd:\n",
    "    df_main['2nd Email'] = ''\n",
    "else:\n",
    "    df_main = pd.merge(df_main[['ACA Transaction Code', 'Business Unit', 'Contact: Contact ID', \n",
    "                        'Send Via Mail', 'Email', 'Secondary Email', 'Employee ID',\n",
    "                        'First Name', 'Last Name', 'Middle Name', 'Other Street', 'Other City', \n",
    "                        'Other State', 'Other Postal Code', 'Other Country', 'Reporting Month', \n",
    "                        'Reporting Year', '1st Email', '1st Email Soft', '1st Email Status']],\n",
    "                    df3[['2nd Email']], \n",
    "                    left_on = 'Contact: Contact ID', \n",
    "                    right_on = '2nd Email', \n",
    "                    how='left' )"
   ]
  },
  {
   "cell_type": "code",
   "execution_count": 110,
   "id": "51e41c0a",
   "metadata": {},
   "outputs": [
    {
     "data": {
      "text/plain": [
       "[]"
      ]
     },
     "execution_count": 110,
     "metadata": {},
     "output_type": "execute_result"
    }
   ],
   "source": [
    "glob.glob(r'C:\\Users\\aquirart\\Desktop\\ACA Emails\\IMP_2_21_24\\2nd Soft*.csv')"
   ]
  },
  {
   "cell_type": "code",
   "execution_count": 111,
   "id": "6cf1d36f",
   "metadata": {},
   "outputs": [],
   "source": [
    "all_dfs_soft_2nd = []\n",
    "for one_filename_soft_2nd in glob.glob(r'C:\\Users\\aquirart\\Desktop\\ACA Emails\\IMP_2_21_24\\2nd Soft*.csv'):\n",
    "    print(f'Loading {one_filename_soft_2nd}')\n",
    "    new_df_soft_2nd = pd.read_csv(one_filename_soft_2nd,\n",
    "                usecols=['Prospect Id', 'First Name', 'Last Name', 'CRM Contact FID'])\n",
    "    all_dfs_soft_2nd.append(new_df_soft_2nd)"
   ]
  },
  {
   "cell_type": "code",
   "execution_count": 112,
   "id": "a70f99b5",
   "metadata": {},
   "outputs": [
    {
     "name": "stdout",
     "output_type": "stream",
     "text": [
      "empty\n"
     ]
    }
   ],
   "source": [
    "if not all_dfs_soft_2nd:\n",
    "    print('empty')\n",
    "else:\n",
    "    df4 = pd.concat(all_dfs_soft_2nd) \n",
    "    df4['2nd Email Soft'] = df4['CRM Contact FID'].str[:15]"
   ]
  },
  {
   "cell_type": "code",
   "execution_count": 113,
   "id": "22840ac4",
   "metadata": {},
   "outputs": [],
   "source": [
    "if not all_dfs_soft_2nd:\n",
    "    df_main['2nd Email Soft'] = ''\n",
    "else:\n",
    "    df_main = pd.merge(df_main[['ACA Transaction Code', 'Business Unit', 'Contact: Contact ID', \n",
    "                            'Send Via Mail', 'Email', 'Secondary Email', 'Employee ID',\n",
    "                            'First Name', 'Last Name', 'Middle Name', 'Other Street', 'Other City', \n",
    "                            'Other State', 'Other Postal Code', 'Other Country', 'Reporting Month', \n",
    "                            'Reporting Year', '1st Email', '1st Email Soft', '1st Email Status',\n",
    "                            '2nd Email']],\n",
    "                        df4[['2nd Email Soft']], \n",
    "                        left_on = 'Contact: Contact ID', \n",
    "                        right_on = '2nd Email Soft', \n",
    "                        how='left' )\n",
    "    "
   ]
  },
  {
   "cell_type": "code",
   "execution_count": 114,
   "id": "4c7a434b",
   "metadata": {},
   "outputs": [],
   "source": [
    "df_main = df_main.fillna('')"
   ]
  },
  {
   "cell_type": "code",
   "execution_count": 115,
   "id": "dbc9a8a5",
   "metadata": {},
   "outputs": [],
   "source": [
    "condidtions = [\n",
    "    (df_main['1st Email Status'] == 'Hard Bounce / Did Not Send') & (df_main['2nd Email'] == ''),\n",
    "    (df_main['1st Email Status'] == 'Soft Bounce') & (df_main['2nd Email Soft'] != ''),\n",
    "    (df_main['1st Email Status'] == 'Soft Bounce') & (df_main['2nd Email'] != '') & (df_main['2nd Email Soft'] == ''),\n",
    "    (df_main['1st Email Status'] == 'Email Sent') & (df_main['2nd Email'] == ''),\n",
    "]\n",
    "\n",
    "values = ['Hard Bounce / Did Not Send','Soft Bounce', 'Email Sent', 'Email Sent']\n",
    "\n",
    "df_main['2nd Email Status'] = np.select(condidtions, values)"
   ]
  },
  {
   "cell_type": "code",
   "execution_count": 116,
   "id": "9c076fdc",
   "metadata": {},
   "outputs": [],
   "source": [
    "df_main.to_csv(r'C:\\Users\\aquirart\\Desktop\\ACA Emails\\IMP_2_21_24\\final.csv', index=False)"
   ]
  }
 ],
 "metadata": {
  "kernelspec": {
   "display_name": "Python 3 (ipykernel)",
   "language": "python",
   "name": "python3"
  },
  "language_info": {
   "codemirror_mode": {
    "name": "ipython",
    "version": 3
   },
   "file_extension": ".py",
   "mimetype": "text/x-python",
   "name": "python",
   "nbconvert_exporter": "python",
   "pygments_lexer": "ipython3",
   "version": "3.11.8"
  }
 },
 "nbformat": 4,
 "nbformat_minor": 5
}
